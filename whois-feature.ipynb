{
 "cells": [
  {
   "cell_type": "code",
   "execution_count": null,
   "metadata": {},
   "outputs": [
    {
     "name": "stdout",
     "output_type": "stream",
     "text": [
      "Không tìm thấy file: dataset.csv. Kiểm tra lại đường dẫn!\n"
     ]
    },
    {
     "ename": "NameError",
     "evalue": "name 'data' is not defined",
     "output_type": "error",
     "traceback": [
      "\u001b[1;31m---------------------------------------------------------------------------\u001b[0m",
      "\u001b[1;31mNameError\u001b[0m                                 Traceback (most recent call last)",
      "Cell \u001b[1;32mIn[1], line 20\u001b[0m\n\u001b[0;32m     17\u001b[0m     \u001b[38;5;28mprint\u001b[39m(\u001b[38;5;124mf\u001b[39m\u001b[38;5;124m\"\u001b[39m\u001b[38;5;124mKhông tìm thấy file: \u001b[39m\u001b[38;5;132;01m{\u001b[39;00mINPUT_FILE\u001b[38;5;132;01m}\u001b[39;00m\u001b[38;5;124m. Kiểm tra lại đường dẫn!\u001b[39m\u001b[38;5;124m\"\u001b[39m)\n\u001b[0;32m     18\u001b[0m     exit()\n\u001b[1;32m---> 20\u001b[0m \u001b[38;5;28;01mif\u001b[39;00m \u001b[38;5;124m'\u001b[39m\u001b[38;5;124mdomain\u001b[39m\u001b[38;5;124m'\u001b[39m \u001b[38;5;129;01mnot\u001b[39;00m \u001b[38;5;129;01min\u001b[39;00m \u001b[43mdata\u001b[49m\u001b[38;5;241m.\u001b[39mcolumns:\n\u001b[0;32m     21\u001b[0m     \u001b[38;5;28mprint\u001b[39m(\u001b[38;5;124m\"\u001b[39m\u001b[38;5;124mKhông tìm thấy cột \u001b[39m\u001b[38;5;124m'\u001b[39m\u001b[38;5;124mdomain\u001b[39m\u001b[38;5;124m'\u001b[39m\u001b[38;5;124m trong file CSV!\u001b[39m\u001b[38;5;124m\"\u001b[39m)\n\u001b[0;32m     22\u001b[0m     exit()\n",
      "\u001b[1;31mNameError\u001b[0m: name 'data' is not defined"
     ]
    },
    {
     "ename": "",
     "evalue": "",
     "output_type": "error",
     "traceback": [
      "\u001b[1;31mThe Kernel crashed while executing code in the current cell or a previous cell. \n",
      "\u001b[1;31mPlease review the code in the cell(s) to identify a possible cause of the failure. \n",
      "\u001b[1;31mClick <a href='https://aka.ms/vscodeJupyterKernelCrash'>here</a> for more info. \n",
      "\u001b[1;31mView Jupyter <a href='command:jupyter.viewOutput'>log</a> for further details."
     ]
    }
   ],
   "source": [
    "import pandas as pd\n",
    "import os, time, whois\n",
    "from concurrent.futures import ThreadPoolExecutor, as_completed\n",
    "from tqdm import tqdm\n",
    "\n",
    "# --- Cấu hình ---\n",
    "INPUT_FILE = \"dataset.csv\"  # File gốc\n",
    "OUTPUT_FILE = \"f25-whois-age.csv\"  # File lưu tiến độ\n",
    "BATCH_SIZE = 10000  # Số domain / batch\n",
    "MAX_THREADS = 300  # Số luồng song song\n",
    "CACHE_FILE = \"whois_cache.csv\"  # File cache WHOIS\n",
    "\n",
    "# --- Đọc dữ liệu ---\n",
    "try:\n",
    "    data = pd.read_csv(INPUT_FILE)\n",
    "except FileNotFoundError:\n",
    "    print(f\"Không tìm thấy file: {INPUT_FILE}. Kiểm tra lại đường dẫn!\")\n",
    "    exit()\n",
    "\n",
    "if 'domain' not in data.columns:\n",
    "    print(\"Không tìm thấy cột 'domain' trong file CSV!\")\n",
    "    exit()\n",
    "\n",
    "# --- Kiểm tra tiến độ ---\n",
    "if os.path.exists(OUTPUT_FILE):\n",
    "    processed_data = pd.read_csv(OUTPUT_FILE)\n",
    "    print(f\"Tiếp tục từ file: {OUTPUT_FILE}.\")\n",
    "    data = processed_data  # Dùng dữ liệu đã có\n",
    "else:\n",
    "    print(\"Bắt đầu mới! Chưa có file tiến độ.\")\n",
    "    data['f25'] = None  # Thêm cột f25 nếu chưa có\n",
    "\n",
    "processed_count = data['f25'].notna().sum()\n",
    "print(f\"Đã xử lý: {processed_count}/{len(data)} domain.\")\n",
    "\n",
    "# --- Đọc cache WHOIS (nếu có) ---\n",
    "whois_cache = {}\n",
    "if os.path.exists(CACHE_FILE):\n",
    "    cache_df = pd.read_csv(CACHE_FILE)\n",
    "    whois_cache = dict(zip(cache_df['domain'], cache_df['f25']))\n",
    "    print(f\"Đã load {len(whois_cache)} domain từ cache.\")\n",
    "\n",
    "# --- Hàm lấy WHOIS Age ---\n",
    "def get_whois_age(domain):\n",
    "    if domain in whois_cache:\n",
    "        return domain, whois_cache[domain]  # Trả về từ cache nếu có\n",
    "\n",
    "    try:\n",
    "        w = whois.whois(domain)\n",
    "        if w.creation_date:\n",
    "            age = (pd.Timestamp.now() - pd.to_datetime(w.creation_date[0])).days\n",
    "            whois_cache[domain] = age  # Lưu vào cache\n",
    "            return domain, age\n",
    "    except:\n",
    "        return domain, None\n",
    "    return domain, None\n",
    "\n",
    "# --- Xử lý theo batch ---\n",
    "for i in range(0, len(data), BATCH_SIZE):\n",
    "    batch = data.iloc[i:i + BATCH_SIZE]\n",
    "    batch = batch[batch['f25'].isna()]  # Bỏ qua domain đã có WHOIS\n",
    "\n",
    "    if batch.empty:\n",
    "        continue  # Skip batch đã hoàn thành\n",
    "\n",
    "    print(f\"🔹 Xử lý batch {i//BATCH_SIZE} ({len(batch)} domain)...\")\n",
    "    start = time.time()\n",
    "\n",
    "    results = {}\n",
    "    with ThreadPoolExecutor(max_workers=MAX_THREADS) as executor:\n",
    "        futures = {executor.submit(get_whois_age, d): d for d in batch['domain']}\n",
    "        for f in tqdm(as_completed(futures), total=len(futures), desc=f\"Batch {i//BATCH_SIZE}\"):\n",
    "            domain, age = f.result()\n",
    "            results[domain] = age\n",
    "\n",
    "    # Cập nhật vào DataFrame\n",
    "    for domain, age in results.items():\n",
    "        data.loc[data['domain'] == domain, 'f25'] = age\n",
    "\n",
    "    # Lưu tiến độ sau mỗi batch\n",
    "    data.to_csv(OUTPUT_FILE, index=False)\n",
    "\n",
    "    # Lưu cache WHOIS\n",
    "    cache_df = pd.DataFrame(list(whois_cache.items()), columns=['domain', 'f25'])\n",
    "    cache_df.to_csv(CACHE_FILE, index=False)\n",
    "\n",
    "    end = time.time()\n",
    "    print(f\"Batch {i//BATCH_SIZE} xong! ({round(end-start,2)}s)\")\n",
    "\n",
    "print(f\"\\n Hoàn thành! Kết quả lưu tại: {OUTPUT_FILE}\")\n"
   ]
  }
 ],
 "metadata": {
  "kernelspec": {
   "display_name": "Python 3",
   "language": "python",
   "name": "python3"
  },
  "language_info": {
   "codemirror_mode": {
    "name": "ipython",
    "version": 3
   },
   "file_extension": ".py",
   "mimetype": "text/x-python",
   "name": "python",
   "nbconvert_exporter": "python",
   "pygments_lexer": "ipython3",
   "version": "3.12.2"
  }
 },
 "nbformat": 4,
 "nbformat_minor": 2
}
